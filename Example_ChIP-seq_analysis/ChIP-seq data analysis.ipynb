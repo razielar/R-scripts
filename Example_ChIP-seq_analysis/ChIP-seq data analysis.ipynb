{
 "cells": [
  {
   "cell_type": "markdown",
   "metadata": {},
   "source": [
    "# ChIP-seq data analysis\n",
    "## February 8th 2019 \n"
   ]
  },
  {
   "cell_type": "markdown",
   "metadata": {},
   "source": [
    "[Information obtained here](https://www.bioconductor.org/help/course-materials/2016/CSAMA/lab-5-chipseq/Epigenetics.html) <br>\n",
    "[Another tutorial ChIP-seq tutorial but much more detailed](https://www.bioconductor.org/help/course-materials/2017/BioC2017/Day2/Workshops/ChIP-seq/doc/workflow.html)"
   ]
  },
  {
   "cell_type": "markdown",
   "metadata": {},
   "source": [
    "## Data: \n",
    "We downloaded data corresponding to a ChIP-seq experiment with two biological replicates of mouse Embryonic Stem cells (mESC) along with the input control sample. "
   ]
  },
  {
   "cell_type": "code",
   "execution_count": 10,
   "metadata": {},
   "outputs": [],
   "source": [
    "### Libraries: \n",
    "\n",
    "library(GenomicRanges) #A lot of dependencies\n",
    "library(IRanges)\n",
    "library(rtracklayer)\n",
    "\n",
    "setwd('/home/razielar/Documents/Bed.files_ChIP.seq_tutorial/bedfiles/')"
   ]
  },
  {
   "cell_type": "code",
   "execution_count": 16,
   "metadata": {},
   "outputs": [],
   "source": [
    "input <- import.bed('ES_input_filtered_ucsc_chr6.bed')\n",
    "rep1 <- import.bed('H3K27ac_rep1_filtered_ucsc_chr6.bed')\n",
    "rep2 <- import.bed('H3K27ac_rep2_filtered_ucsc_chr6.bed')"
   ]
  },
  {
   "cell_type": "code",
   "execution_count": 14,
   "metadata": {},
   "outputs": [
    {
     "data": {
      "text/plain": [
       "GRanges object with 6 ranges and 2 metadata columns:\n",
       "      seqnames               ranges strand |          name     score\n",
       "         <Rle>            <IRanges>  <Rle> |   <character> <numeric>\n",
       "  [1]     chr6 [83400348, 83400383]      + |  SRR066787.70        42\n",
       "  [2]     chr6 [47342487, 47342522]      + | SRR066787.143        42\n",
       "  [3]     chr6 [79843295, 79843330]      - | SRR066787.268        42\n",
       "  [4]     chr6 [28261434, 28261469]      - | SRR066787.279        42\n",
       "  [5]     chr6 [87258984, 87259019]      + | SRR066787.280        42\n",
       "  [6]     chr6 [69753866, 69753901]      - | SRR066787.300        42\n",
       "  -------\n",
       "  seqinfo: 1 sequence from an unspecified genome; no seqlengths"
      ]
     },
     "metadata": {},
     "output_type": "display_data"
    }
   ],
   "source": [
    "head(input)"
   ]
  },
  {
   "cell_type": "code",
   "execution_count": 17,
   "metadata": {},
   "outputs": [
    {
     "data": {
      "text/plain": [
       "GRanges object with 6 ranges and 2 metadata columns:\n",
       "      seqnames                 ranges strand |          name     score\n",
       "         <Rle>              <IRanges>  <Rle> |   <character> <numeric>\n",
       "  [1]     chr6 [ 85222462,  85222497]      - | SRR066766.303        40\n",
       "  [2]     chr6 [134189439, 134189474]      + | SRR066766.374        42\n",
       "  [3]     chr6 [ 47920826,  47920861]      + | SRR066766.393        42\n",
       "  [4]     chr6 [143565148, 143565183]      + | SRR066766.397        42\n",
       "  [5]     chr6 [ 39392692,  39392727]      - | SRR066766.438        42\n",
       "  [6]     chr6 [123163882, 123163917]      - | SRR066766.598        42\n",
       "  -------\n",
       "  seqinfo: 1 sequence from an unspecified genome; no seqlengths"
      ]
     },
     "metadata": {},
     "output_type": "display_data"
    }
   ],
   "source": [
    "head(rep1)"
   ]
  },
  {
   "cell_type": "code",
   "execution_count": 18,
   "metadata": {},
   "outputs": [
    {
     "data": {
      "text/plain": [
       "GRanges object with 6 ranges and 2 metadata columns:\n",
       "      seqnames                 ranges strand |          name     score\n",
       "         <Rle>              <IRanges>  <Rle> |   <character> <numeric>\n",
       "  [1]     chr6 [128388281, 128388316]      + |   SRR066767.2        42\n",
       "  [2]     chr6 [108199163, 108199198]      - |  SRR066767.52        42\n",
       "  [3]     chr6 [122655949, 122655984]      - |  SRR066767.55        42\n",
       "  [4]     chr6 [135512996, 135513031]      + | SRR066767.179        40\n",
       "  [5]     chr6 [ 34141929,  34141964]      + | SRR066767.217        42\n",
       "  [6]     chr6 [108047347, 108047382]      - | SRR066767.232        42\n",
       "  -------\n",
       "  seqinfo: 1 sequence from an unspecified genome; no seqlengths"
      ]
     },
     "metadata": {},
     "output_type": "display_data"
    }
   ],
   "source": [
    "head(rep2)"
   ]
  },
  {
   "cell_type": "code",
   "execution_count": 19,
   "metadata": {},
   "outputs": [
    {
     "name": "stderr",
     "output_type": "stream",
     "text": [
      "Warning message in data(si):\n",
      "“data set ‘si’ not found”"
     ]
    }
   ],
   "source": []
  },
  {
   "cell_type": "code",
   "execution_count": null,
   "metadata": {},
   "outputs": [],
   "source": []
  },
  {
   "cell_type": "code",
   "execution_count": null,
   "metadata": {},
   "outputs": [],
   "source": []
  },
  {
   "cell_type": "code",
   "execution_count": null,
   "metadata": {},
   "outputs": [],
   "source": []
  },
  {
   "cell_type": "code",
   "execution_count": null,
   "metadata": {},
   "outputs": [],
   "source": []
  },
  {
   "cell_type": "code",
   "execution_count": null,
   "metadata": {},
   "outputs": [],
   "source": []
  },
  {
   "cell_type": "code",
   "execution_count": null,
   "metadata": {},
   "outputs": [],
   "source": []
  },
  {
   "cell_type": "code",
   "execution_count": null,
   "metadata": {},
   "outputs": [],
   "source": []
  }
 ],
 "metadata": {
  "kernelspec": {
   "display_name": "R",
   "language": "R",
   "name": "ir"
  },
  "language_info": {
   "codemirror_mode": "r",
   "file_extension": ".r",
   "mimetype": "text/x-r-source",
   "name": "R",
   "pygments_lexer": "r",
   "version": "3.4.3"
  }
 },
 "nbformat": 4,
 "nbformat_minor": 2
}
