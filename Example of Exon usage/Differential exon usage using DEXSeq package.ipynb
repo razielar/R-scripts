{
 "cells": [
  {
   "cell_type": "markdown",
   "metadata": {},
   "source": [
    "# Inferring differential exon usage in RNA-seq with the DEXSeq package\n",
    "## May 24th 2018"
   ]
  },
  {
   "cell_type": "markdown",
   "metadata": {},
   "source": [
    "[The code was obtained from here](https://bioconductor.org/packages/devel/bioc/vignettes/DEXSeq/inst/doc/DEXSeq.pdf) <br/>\n",
    "[The statistical method and the paper that supports DEXSeq is here](https://genome.cshlp.org/content/22/10/2008.long)"
   ]
  },
  {
   "cell_type": "code",
   "execution_count": 8,
   "metadata": {},
   "outputs": [],
   "source": [
    "library(dplyr)\n",
    "library(ggplot2)\n",
    "library(pasilla)\n",
    "#library(DEXSeq)"
   ]
  },
  {
   "cell_type": "markdown",
   "metadata": {},
   "source": [
    "## 1) Preparations"
   ]
  },
  {
   "cell_type": "markdown",
   "metadata": {},
   "source": [
    "### 1.1) Dataset\n",
    "\n",
    "For demostration purposes we are going to use the *pastilla dataset*. There are **seven cell cultures**, **three treated** with siRNA and **four as untreated controls**. \n"
   ]
  },
  {
   "cell_type": "markdown",
   "metadata": {},
   "source": [
    "### 1.2) Alignment\n",
    "The first step is to align the reads to a reference genome. It is **important to align them to the genome**, not to the transcriptome, and to use a *splice-aware aligner* such as TopHat, STAT, etc. "
   ]
  },
  {
   "cell_type": "markdown",
   "metadata": {},
   "source": [
    "### 1.3) HTSeq\n",
    "The initial steps of this pipelines are done using 2 Python scripts. You need to install the Python package [HTSeq](https://htseq.readthedocs.io/en/release_0.10.0/install.html#installation-on-linux)"
   ]
  },
  {
   "cell_type": "code",
   "execution_count": 3,
   "metadata": {},
   "outputs": [],
   "source": [
    "python_scripts_Dir <- system.file(\"python_scripts\", package = \"DEXSeq\")\n"
   ]
  },
  {
   "cell_type": "markdown",
   "metadata": {},
   "source": [
    "### 1.4) Preparing the annotation\n",
    "The Python scripts expect a GTF file with gene models. Make sure that your GTF file uses a coordinate system that matches the reference genome that you have used for aligning your reads. \n",
    "In a GTF file, many exons appear multiple times, once for each transcript that contains them. We need to *collapse* this information to define **exon counting bins** (see [Detecting differential usage of exons from RNA-seq](https://genome.cshlp.org/content/22/10/2008.long) for more details). \n",
    "The python script: *dexseq_prepare_annotation.py* takes the GTF file and translates it into a GFF file with **collapsed exon counting bins**. "
   ]
  },
  {
   "cell_type": "markdown",
   "metadata": {},
   "source": [
    "### 1.5) Counting reads\n",
    "\n",
    "For each SAM file, we count the number of reads that overlap with each of the *exon counting bins* defined in the flattened GFF file. This is done with the script: *dexseq_count.py*. \n"
   ]
  },
  {
   "cell_type": "code",
   "execution_count": null,
   "metadata": {},
   "outputs": [],
   "source": []
  },
  {
   "cell_type": "code",
   "execution_count": null,
   "metadata": {},
   "outputs": [],
   "source": []
  },
  {
   "cell_type": "code",
   "execution_count": null,
   "metadata": {},
   "outputs": [],
   "source": []
  }
 ],
 "metadata": {
  "kernelspec": {
   "display_name": "R",
   "language": "R",
   "name": "ir"
  },
  "language_info": {
   "codemirror_mode": "r",
   "file_extension": ".r",
   "mimetype": "text/x-r-source",
   "name": "R",
   "pygments_lexer": "r",
   "version": "3.4.2"
  }
 },
 "nbformat": 4,
 "nbformat_minor": 2
}
